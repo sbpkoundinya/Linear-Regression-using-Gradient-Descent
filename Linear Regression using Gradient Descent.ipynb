{
 "cells": [
  {
   "cell_type": "code",
   "execution_count": 5,
   "metadata": {},
   "outputs": [
    {
     "name": "stdout",
     "output_type": "stream",
     "text": [
      "Starting gradient descent at b = 0, m = 0, error = 5565.10783449\n",
      "Running...\n",
      "After 1000 iterations, b = 0.0889365199668, m = 1.47774408519, error = 112.614810101\n"
     ]
    }
   ],
   "source": [
    "from numpy import *\n",
    "\n",
    "def compute_error_for_line_given_points(b, m, points):\n",
    "    # Initialize error to 0\n",
    "    totalError = 0\n",
    "    \n",
    "    # For every point\n",
    "    for i in range(0, len(points)):\n",
    "        x = points[i, 0]\n",
    "        y = points[i, 1]\n",
    "        \n",
    "        # Compute the difference between actual and predicted values and add it to the total\n",
    "        totalError += (y - (m * x + b)) ** 2\n",
    "    \n",
    "    # Get the average error\n",
    "    return totalError / float(len(points))\n",
    "\n",
    "def gradient_descent_runner(points, starting_b, starting_m, learning_rate, num_iterations):\n",
    "    b = starting_b\n",
    "    m = starting_m\n",
    "    \n",
    "    # Gradient descent\n",
    "    for i in range(num_iterations):\n",
    "        b, m = step_gradient(b, m, array(points), learning_rate)\n",
    "    \n",
    "    return [b, m]\n",
    "\n",
    "def step_gradient(b_current, m_current, points, learningRate):\n",
    "    b_gradient = 0\n",
    "    m_gradient = 0\n",
    "    \n",
    "    for i in range(len(points)):\n",
    "        x = points[i, 0]\n",
    "        y = points[i, 1]\n",
    "        \n",
    "        # Compute partial derivatives of error function\n",
    "        b_gradient += (-2 / float(len(points))) * (y - ((m_current * x) + b_current))\n",
    "        m_gradient += (-2 / float(len(points))) * x * (y - ((m_current * x) + b_current))\n",
    "    \n",
    "    # Update b and m values using partial derivatives\n",
    "    b_new = b_current - (learningRate * b_gradient)\n",
    "    m_new = m_current - (learningRate * m_gradient)\n",
    "    \n",
    "    return [b_new, m_new]\n",
    "\n",
    "def run():\n",
    "    # Step 1: Extract data\n",
    "    points = genfromtxt('data.csv', delimiter=',')\n",
    "    \n",
    "    # Step 2: Define hyperparameters\n",
    "    # How fast should our model converge?\n",
    "    learning_rate = 0.0001\n",
    "    # y = mx + b (Slope formula)\n",
    "    initial_b = 0\n",
    "    initial_m = 0\n",
    "    num_iterations = 1000\n",
    "    \n",
    "    # Step 3: Train our model\n",
    "    print \"Starting gradient descent at b = {0}, m = {1}, error = {2}\".format(initial_b, initial_m, compute_error_for_line_given_points(initial_b, initial_m, points))\n",
    "    print \"Running...\"\n",
    "    [b, m] = gradient_descent_runner(points, initial_b, initial_m, learning_rate, num_iterations)\n",
    "    print \"After {0} iterations, b = {1}, m = {2}, error = {3}\".format(num_iterations, b, m, compute_error_for_line_given_points(b, m, points))\n",
    "    \n",
    "if __name__ == '__main__':\n",
    "    run()"
   ]
  }
 ],
 "metadata": {
  "kernelspec": {
   "display_name": "Python 2",
   "language": "python",
   "name": "python2"
  },
  "language_info": {
   "codemirror_mode": {
    "name": "ipython",
    "version": 2
   },
   "file_extension": ".py",
   "mimetype": "text/x-python",
   "name": "python",
   "nbconvert_exporter": "python",
   "pygments_lexer": "ipython2",
   "version": "2.7.15"
  }
 },
 "nbformat": 4,
 "nbformat_minor": 2
}
